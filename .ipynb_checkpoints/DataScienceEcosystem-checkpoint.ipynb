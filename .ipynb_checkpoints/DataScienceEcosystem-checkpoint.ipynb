{
 "cells": [
  {
   "cell_type": "markdown",
   "id": "c0284306",
   "metadata": {},
   "source": [
    "# Data Science Tools and Ecosystem"
   ]
  },
  {
   "cell_type": "markdown",
   "id": "5f747344",
   "metadata": {},
   "source": [
    "In this notebook, Data Science Tools and Ecosystem are summarized."
   ]
  },
  {
   "cell_type": "markdown",
   "id": "7d593231",
   "metadata": {},
   "source": [
    "Some of the popular languages that Data Scientists use are:\n",
    "\n",
    "1. Python\n",
    "2. R\n",
    "3. SQL\n"
   ]
  },
  {
   "cell_type": "markdown",
   "id": "d6f48707",
   "metadata": {},
   "source": [
    "Some of the commonly used libraries used by Data Scientists include:\n",
    "\n",
    "1. Pandas\n",
    "2. NumPy\n",
    "3. Matplotlib\n"
   ]
  },
  {
   "cell_type": "markdown",
   "id": "83d4496a",
   "metadata": {},
   "source": [
    "| Data Science Tools          | Description                                   |\n",
    "|-------------------|-----------------------------------------------|\n",
    "| Python            | General-purpose programming language           |\n",
    "| R                 | Statistical computing and graphics             |\n",
    "| Jupyter Notebooks | Interactive web-based computational notebooks |\n",
    "| Pandas            | Data manipulation and analysis library         |\n",
    "| NumPy             | Numerical computing library                     |\n",
    "| Matplotlib        | Data visualization library                     |\n",
    "| Scikit-learn      | Machine learning library                        |\n",
    "| TensorFlow        | Machine learning and deep learning library      |\n",
    "| Keras             | High-level neural networks API                  |\n",
    "| Tableau           | Data visualization tool                         |\n",
    "| SQL               | Query language for relational databases         |\n",
    "| Excel             | Spreadsheet software                            |\n"
   ]
  },
  {
   "cell_type": "markdown",
   "id": "0eaee489",
   "metadata": {},
   "source": [
    "### Below are a few examples of evaluating arithmetic expressions in Python."
   ]
  },
  {
   "cell_type": "code",
   "execution_count": 5,
   "id": "c98fcb87",
   "metadata": {},
   "outputs": [
    {
     "data": {
      "text/plain": [
       "17"
      ]
     },
     "execution_count": 5,
     "metadata": {},
     "output_type": "execute_result"
    }
   ],
   "source": [
    "# This is a simple arithmetic expression to multiply then add integers.\n",
    "result = (3 * 4) + 5\n",
    "result"
   ]
  },
  {
   "cell_type": "code",
   "execution_count": 6,
   "id": "03132aa0",
   "metadata": {},
   "outputs": [
    {
     "data": {
      "text/plain": [
       "3.3333333333333335"
      ]
     },
     "execution_count": 6,
     "metadata": {},
     "output_type": "execute_result"
    }
   ],
   "source": [
    "# This will convert 200 minutes to hours by dividing by 60.\n",
    "minutes = 200\n",
    "hours = minutes / 60\n",
    "hours\n"
   ]
  },
  {
   "cell_type": "markdown",
   "id": "5ae8783e",
   "metadata": {},
   "source": [
    "## Objectives:\n",
    "\n",
    "- List popular languages for Data Science.\n",
    "- Enumerate commonly used libraries in Data Science.\n",
    "- Provide examples of arithmetic expressions in Python.\n",
    "- Demonstrate the conversion of minutes to hours.\n",
    "- Introduce the author's name.\n",
    "\n"
   ]
  },
  {
   "cell_type": "markdown",
   "id": "da04f8cb",
   "metadata": {},
   "source": [
    "## Author\n",
    "\n",
    "Eda Oner\n"
   ]
  },
  {
   "cell_type": "code",
   "execution_count": null,
   "id": "13cadc13",
   "metadata": {},
   "outputs": [],
   "source": []
  }
 ],
 "metadata": {
  "kernelspec": {
   "display_name": "Python 3 (ipykernel)",
   "language": "python",
   "name": "python3"
  },
  "language_info": {
   "codemirror_mode": {
    "name": "ipython",
    "version": 3
   },
   "file_extension": ".py",
   "mimetype": "text/x-python",
   "name": "python",
   "nbconvert_exporter": "python",
   "pygments_lexer": "ipython3",
   "version": "3.11.4"
  }
 },
 "nbformat": 4,
 "nbformat_minor": 5
}
